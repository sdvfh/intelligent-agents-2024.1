{
 "cells": [
  {
   "cell_type": "code",
   "execution_count": 1,
   "metadata": {},
   "outputs": [],
   "source": [
    "from Astar import Astar"
   ]
  },
  {
   "cell_type": "code",
   "execution_count": 2,
   "metadata": {},
   "outputs": [
    {
     "name": "stderr",
     "output_type": "stream",
     "text": [
      "e:\\Mestrado\\Introducao-agentes-inteligentes\\Projeto-A-estrela\\intelligent-agents-2024.1\\London\\data_loader\\data_loader.py:13: FutureWarning: Downcasting behavior in `replace` is deprecated and will be removed in a future version. To retain the old behavior, explicitly call `result.infer_objects(copy=False)`. To opt-in to the future behavior, set `pd.set_option('future.no_silent_downcasting', True)`\n",
      "  self.real_dist_df = self.real_dist_df.replace('x', np.nan)\n"
     ]
    }
   ],
   "source": [
    "astar = Astar(\"London\\\\real_distances.csv\", \"London\\\\straight_line_distances.csv\")"
   ]
  },
  {
   "cell_type": "code",
   "execution_count": 4,
   "metadata": {},
   "outputs": [
    {
     "name": "stdout",
     "output_type": "stream",
     "text": [
      "Current frontier nodes: ['E2']\n",
      "selected node: E2 | f: 17.4 | h: 13.1 | g: 4.3 | path: ['E1']\n",
      "Current frontier nodes: ['E1', 'E3', 'E7', 'E9']\n",
      "selected node: E3 | f: 31.2 | h: 8.5 | g: 22.7 | path: ['E1', 'E2']\n",
      "Current frontier nodes: ['E1', 'E7', 'E9', 'E2', 'E4', 'E8']\n",
      "selected node: E9 | f: 33.7 | h: 12.0 | g: 21.7 | path: ['E1', 'E2']\n",
      "Current frontier nodes: ['E1', 'E7', 'E2', 'E4', 'E8', 'E9', 'E10']\n",
      "selected node: E1 | f: 38.9 | h: 17.2 | g: 21.7 | path: ['E1', 'E2']\n",
      "Current frontier nodes: ['E7', 'E2', 'E4', 'E8', 'E9', 'E10']\n",
      "selected node: E4 | f: 40.0 | h: 2.9 | g: 37.1 | path: ['E1', 'E2', 'E3']\n",
      "Current frontier nodes: ['E7', 'E2', 'E8', 'E9', 'E10', 'E3', 'E5', 'E14']\n",
      "selected node: E8 | f: 42.3 | h: 7.0 | g: 35.3 | path: ['E1', 'E2', 'E3']\n",
      "Current frontier nodes: ['E7', 'E2', 'E9', 'E10', 'E3', 'E5', 'E14', 'E4']\n",
      "selected node: E5 | f: 42.9 | h: 0 | g: 42.9 | path: ['E1', 'E2', 'E3', 'E4']\n",
      "Found goal node: E5 | path: ['E1', 'E2', 'E3', 'E4'] | f: 42.9 | h: 0 | g: 42.9\n"
     ]
    }
   ],
   "source": [
    "astar.calculate_A_star(\"E1\", \"E5\")\n"
   ]
  },
  {
   "cell_type": "code",
   "execution_count": 3,
   "metadata": {},
   "outputs": [],
   "source": [
    "astar.start_node = 'E1'\n",
    "astar.goal_node = 'E5'\n",
    "astar.create_initial_frontier()\n",
    "while astar.frontier:\n",
    "    print(f'Current frontier nodes: {list(astar.frontier.keys())}')\n",
    "    current_node = min(astar.frontier, key=lambda k: astar.frontier[k]['f'])\n",
    "    print(f'selected node: {current_node} | f: {astar.frontier[current_node][\"f\"]} | h: {astar.frontier[current_node][\"h\"]} | g: {astar.frontier[current_node][\"g\"]} | path: {astar.frontier[current_node][\"full_path\"]}')\n",
    "    if current_node == astar.goal_node:\n",
    "        print(f'Found goal node: {current_node} | path: {astar.frontier[current_node][\"full_path\"]} | f: {astar.frontier[current_node][\"f\"]} | h: {astar.frontier[current_node][\"h\"]} | g: {astar.frontier[current_node][\"g\"]}')\n",
    "        break\n",
    "    current_node_cost = astar.frontier[current_node]['f']\n",
    "    current_node_path = astar.frontier[current_node]['full_path']\n",
    "    del astar.frontier[current_node]\n",
    "    for neighbor_node in astar.neighbors(current_node):\n",
    "        node_cost,heuristic_cost,new_total_distance = astar.heuristic_cost_estimate(current_node_cost,current_node,neighbor_node,astar.goal_node)\n",
    "        astar.frontier[neighbor_node] = {'f': node_cost,'h': heuristic_cost,'g': new_total_distance,'full_path': current_node_path + [current_node]}"
   ]
  },
  {
   "cell_type": "markdown",
   "metadata": {},
   "source": [
    "### Visualizing Data"
   ]
  },
  {
   "cell_type": "code",
   "execution_count": 3,
   "metadata": {},
   "outputs": [
    {
     "data": {
      "text/plain": [
       "{'E1': {'E2': 4.3},\n",
       " 'E2': {'E1': 4.3, 'E3': 5.3, 'E7': 14.3, 'E9': 4.3},\n",
       " 'E3': {'E2': 5.3, 'E4': 5.9, 'E7': 8.5, 'E8': 4.1},\n",
       " 'E4': {'E3': 5.9, 'E5': 2.9, 'E10': 4.0, 'E14': 6.2},\n",
       " 'E5': {'E4': 2.9},\n",
       " 'E6': {'E7': 3.2},\n",
       " 'E7': {'E2': 14.3, 'E3': 8.5, 'E5': 3.2},\n",
       " 'E8': {'E3': 4.1, 'E4': 4.0, 'E9': 5.0, 'E10': 6.0},\n",
       " 'E9': {'E2': 4.3, 'E7': 5.0, 'E9': 3.0, 'E10': 3.4},\n",
       " 'E10': {'E7': 6.0, 'E8': 3.0, 'E11': 5.6, 'E12': 9.1},\n",
       " 'E11': {'E7': 3.4},\n",
       " 'E12': {'E9': 5.6},\n",
       " 'E13': {'E9': 9.1},\n",
       " 'E14': {'E5': 6.2}}"
      ]
     },
     "execution_count": 3,
     "metadata": {},
     "output_type": "execute_result"
    }
   ],
   "source": [
    "astar.neighbors_dict"
   ]
  },
  {
   "cell_type": "code",
   "execution_count": 4,
   "metadata": {},
   "outputs": [
    {
     "name": "stdout",
     "output_type": "stream",
     "text": [
      "{'E2': 4.3, 'E3': 9.0, 'E4': 14.7, 'E5': 17.2, 'E6': 13.1, 'E7': 11.8, 'E8': 11.3, 'E9': 8.2, 'E10': 10.7, 'E11': 8.4, 'E12': 14.1, 'E13': 18.5, 'E14': 17.3}\n",
      "{'E1': 4.3, 'E3': 5.3, 'E4': 10.3, 'E5': 13.1, 'E6': 12.7, 'E7': 10.3, 'E8': 6.9, 'E9': 4.3, 'E10': 7.4, 'E11': 5.9, 'E12': 11.3, 'E13': 14.8, 'E14': 12.9}\n",
      "{'E1': 9.0, 'E2': 5.3, 'E4': 5.9, 'E5': 8.5, 'E6': 10.9, 'E7': 7.7, 'E8': 4.1, 'E9': 6.5, 'E10': 8.9, 'E11': 9.4, 'E12': 14.5, 'E13': 13.9, 'E14': 10.3}\n",
      "{'E1': 14.7, 'E2': 10.3, 'E3': 5.9, 'E5': 2.9, 'E6': 15.0, 'E7': 12.7, 'E8': 4.0, 'E9': 9.1, 'E10': 9.7, 'E11': 12.2, 'E12': 14.7, 'E13': 10.6, 'E14': 6.0}\n",
      "{'E1': 17.2, 'E2': 13.1, 'E3': 8.5, 'E4': 2.9, 'E6': 16.0, 'E7': 12.3, 'E8': 7.0, 'E9': 12.0, 'E10': 15.3, 'E11': 14.8, 'E12': 17.3, 'E13': 12.7, 'E14': 6.9}\n",
      "{'E1': 13.1, 'E2': 12.7, 'E3': 10.9, 'E4': 15.0, 'E5': 16.0, 'E7': 3.2, 'E8': 15.1, 'E9': 16.5, 'E10': 18.5, 'E11': 19.0, 'E12': 24.3, 'E13': 25.2, 'E14': 21.1}\n",
      "{'E1': 11.8, 'E2': 10.3, 'E3': 7.7, 'E4': 12.7, 'E5': 12.3, 'E6': 3.2, 'E8': 12.0, 'E9': 13.3, 'E10': 16.4, 'E11': 16.0, 'E12': 22.2, 'E13': 22.6, 'E14': 17.1}\n",
      "{'E1': 11.3, 'E2': 6.9, 'E3': 4.1, 'E4': 4.0, 'E5': 7.0, 'E6': 15.1, 'E7': 12.0, 'E9': 5.0, 'E10': 5.6, 'E11': 7.9, 'E12': 12.4, 'E13': 9.8, 'E14': 6.4}\n",
      "{'E1': 8.2, 'E2': 4.3, 'E3': 6.5, 'E4': 9.1, 'E5': 12.0, 'E6': 16.5, 'E7': 13.3, 'E8': 5.0, 'E10': 3.0, 'E11': 3.4, 'E12': 8.1, 'E13': 10.9, 'E14': 9.6}\n",
      "{'E1': 10.7, 'E2': 7.4, 'E3': 8.9, 'E4': 9.7, 'E5': 15.3, 'E6': 18.5, 'E7': 16.4, 'E8': 5.6, 'E9': 3.0, 'E11': 3.4, 'E12': 5.6, 'E13': 7.7, 'E14': 8.4}\n",
      "{'E1': 8.4, 'E2': 5.9, 'E3': 9.4, 'E4': 12.2, 'E5': 14.8, 'E6': 19.0, 'E7': 16.0, 'E8': 7.9, 'E9': 3.4, 'E10': 3.4, 'E12': 5.9, 'E13': 11.2, 'E14': 12.7}\n",
      "{'E1': 14.1, 'E2': 11.3, 'E3': 14.5, 'E4': 14.7, 'E5': 17.3, 'E6': 24.3, 'E7': 22.2, 'E8': 12.4, 'E9': 8.1, 'E10': 5.6, 'E11': 5.9, 'E13': 8.6, 'E14': 12.3}\n",
      "{'E1': 18.5, 'E2': 14.8, 'E3': 13.9, 'E4': 10.6, 'E5': 12.7, 'E6': 25.2, 'E7': 22.6, 'E8': 9.8, 'E9': 10.9, 'E10': 7.7, 'E11': 11.2, 'E12': 8.6, 'E14': 6.1}\n",
      "{'E1': 17.3, 'E2': 12.9, 'E3': 10.3, 'E4': 6.0, 'E5': 6.9, 'E6': 21.1, 'E7': 17.1, 'E8': 6.4, 'E9': 9.6, 'E10': 8.4, 'E11': 12.7, 'E12': 12.3, 'E13': 6.1}\n"
     ]
    }
   ],
   "source": [
    "for key in astar.straightline_distances:\n",
    "    print(astar.straightline_distances[key])"
   ]
  },
  {
   "cell_type": "markdown",
   "metadata": {},
   "source": [
    "### Testing neighbors function"
   ]
  },
  {
   "cell_type": "code",
   "execution_count": 4,
   "metadata": {},
   "outputs": [
    {
     "data": {
      "text/plain": [
       "['E1', 'E3', 'E7', 'E9']"
      ]
     },
     "execution_count": 4,
     "metadata": {},
     "output_type": "execute_result"
    }
   ],
   "source": [
    "while self.frontier:\n",
    "    current_node = min(self.frontier,key=self.frontier.get)\n",
    "    heuristic_cost,current_total_distance,path = self.frontier[current_node]\n",
    "    if current_node == self.goal_node:\n",
    "        return path\n",
    "    del self.frontier[current_node]\n",
    "    for next_node in self.neighbors(current_node):\n",
    "        if next_node not in path:\n",
    "            heuristic_cost,new_total_distance = self.heuristic_cost_estimate(current_total_distance,current_node,next_node,self.goal_node)\n",
    "            self.frontier[next_node] = (heuristic_cost,new_total_distance,path+[next_node])"
   ]
  }
 ],
 "metadata": {
  "kernelspec": {
   "display_name": "Python 3",
   "language": "python",
   "name": "python3"
  },
  "language_info": {
   "codemirror_mode": {
    "name": "ipython",
    "version": 3
   },
   "file_extension": ".py",
   "mimetype": "text/x-python",
   "name": "python",
   "nbconvert_exporter": "python",
   "pygments_lexer": "ipython3",
   "version": "3.9.13"
  }
 },
 "nbformat": 4,
 "nbformat_minor": 2
}
